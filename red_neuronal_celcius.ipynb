{
 "cells": [
  {
   "cell_type": "code",
   "execution_count": 1,
   "id": "ca0b8997-ecde-4124-94e7-849de0b03220",
   "metadata": {},
   "outputs": [],
   "source": [
    "import tensorflow as tf\n",
    "import numpy as np\n",
    "\n",
    "import os \n",
    "os.environ['KMP_DUPLICATE_LIB_OK']='True'"
   ]
  },
  {
   "cell_type": "code",
   "execution_count": 2,
   "id": "6eda39ae-489c-45aa-a827-0b2d23a8130c",
   "metadata": {},
   "outputs": [],
   "source": [
    "celsius = np.array([-40, -10, 0, 8, 15, 22, 38], dtype=float)\n",
    "fahrenheit = np.array([-40, 14, 32, 46, 59, 72, 100], dtype=float)\n"
   ]
  },
  {
   "cell_type": "code",
   "execution_count": 3,
   "id": "85039311-0933-4579-853f-c368750829e4",
   "metadata": {},
   "outputs": [],
   "source": [
    "## Red neuronal una sola capa de entrada y salida ##\n",
    "capa = tf.keras.layers.Dense(units=1, input_shape=[1])\n",
    "modelo = tf.keras.Sequential([capa])\n",
    "\n",
    "## Red neuronal multicapa ##\n",
    "#oculta1 = tf.keras.layers.Dense(units=3, input_shape=[1])\n",
    "#oculta2 = tf.keras.layers.Dense(units=3)\n",
    "#salida = tf.keras.layers.Dense(units=1)\n",
    "#modelo = tf.keras.Sequential([oculta1, oculta2, salida])"
   ]
  },
  {
   "cell_type": "code",
   "execution_count": null,
   "id": "02743a56-ae60-4ac7-91c6-5dcc80989888",
   "metadata": {},
   "outputs": [],
   "source": [
    "modelo.compile(\n",
    "    optimizer = tf.keras.optimizers.Adam(0.1),\n",
    "    loss = 'mean_squared_error'\n",
    ")"
   ]
  },
  {
   "cell_type": "code",
   "execution_count": null,
   "id": "c773695c-6b5f-4bea-b944-3dfb876be96a",
   "metadata": {},
   "outputs": [],
   "source": [
    "print('Comenzando entrenamiento...')\n",
    "historial = modelo.fit(celsius, fahrenheit, epochs = 1000, verbose = False)\n",
    "print('Modelo entrenado!')"
   ]
  },
  {
   "cell_type": "code",
   "execution_count": null,
   "id": "66482040-feb7-4ff1-889a-fcc8583f6031",
   "metadata": {},
   "outputs": [],
   "source": [
    "import matplotlib.pyplot as plt\n",
    "plt.xlabel('# Epoca')\n",
    "plt.ylabel('Magnitud de pérdida')\n",
    "plt.plot(historial.history['loss'])"
   ]
  },
  {
   "cell_type": "code",
   "execution_count": null,
   "id": "31b78bdc-9a87-4208-a343-50584e6ef002",
   "metadata": {},
   "outputs": [],
   "source": [
    "print('Hagamos una predicción')\n",
    "resultado = modelo.predict([100.0])\n",
    "\n",
    "print('El resultado es: ' + str(resultado) + ' fahrenheit!')\n"
   ]
  },
  {
   "cell_type": "code",
   "execution_count": null,
   "id": "e33cd023-f666-4859-960e-5e7d78b8877c",
   "metadata": {},
   "outputs": [],
   "source": [
    "print('Variables internas del modelo')\n",
    "#print(capa.get_weights())\n",
    "\n",
    "print(oculta1.get_weights())\n",
    "print(oculta2.get_weights())\n",
    "print(salida.get_weights())"
   ]
  },
  {
   "cell_type": "code",
   "execution_count": null,
   "id": "2c3e3954-cb5a-4222-9fc8-be0282c7e719",
   "metadata": {},
   "outputs": [],
   "source": []
  }
 ],
 "metadata": {
  "kernelspec": {
   "display_name": "Python 3 (ipykernel)",
   "language": "python",
   "name": "python3"
  },
  "language_info": {
   "codemirror_mode": {
    "name": "ipython",
    "version": 3
   },
   "file_extension": ".py",
   "mimetype": "text/x-python",
   "name": "python",
   "nbconvert_exporter": "python",
   "pygments_lexer": "ipython3",
   "version": "3.9.18"
  }
 },
 "nbformat": 4,
 "nbformat_minor": 5
}
